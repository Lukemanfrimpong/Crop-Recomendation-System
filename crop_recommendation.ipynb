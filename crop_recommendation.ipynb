{
 "cells": [
  {
   "cell_type": "code",
   "execution_count": 13,
   "id": "6a0f1ca4-8a8c-4172-b9ec-2e8e387cce6d",
   "metadata": {},
   "outputs": [],
   "source": [
    "import pandas as pd \n",
    "import numpy as np\n",
    "import matplotlib.pyplot as plt\n",
    "import seaborn as sns\n",
    "from ipywidgets import interact "
   ]
  },
  {
   "cell_type": "code",
   "execution_count": 14,
   "id": "2c5b4475-c090-401b-aab9-f6d3b5a428a3",
   "metadata": {},
   "outputs": [],
   "source": [
    "df = pd.read_csv('data.csv')"
   ]
  },
  {
   "cell_type": "code",
   "execution_count": 15,
   "id": "ea2f3b1c-e6d0-4ed2-a95d-75fa5a455bb1",
   "metadata": {},
   "outputs": [
    {
     "data": {
      "text/html": [
       "<div>\n",
       "<style scoped>\n",
       "    .dataframe tbody tr th:only-of-type {\n",
       "        vertical-align: middle;\n",
       "    }\n",
       "\n",
       "    .dataframe tbody tr th {\n",
       "        vertical-align: top;\n",
       "    }\n",
       "\n",
       "    .dataframe thead th {\n",
       "        text-align: right;\n",
       "    }\n",
       "</style>\n",
       "<table border=\"1\" class=\"dataframe\">\n",
       "  <thead>\n",
       "    <tr style=\"text-align: right;\">\n",
       "      <th></th>\n",
       "      <th>N</th>\n",
       "      <th>P</th>\n",
       "      <th>K</th>\n",
       "      <th>temperature</th>\n",
       "      <th>humidity</th>\n",
       "      <th>ph</th>\n",
       "      <th>rainfall</th>\n",
       "      <th>label</th>\n",
       "    </tr>\n",
       "  </thead>\n",
       "  <tbody>\n",
       "    <tr>\n",
       "      <th>0</th>\n",
       "      <td>90</td>\n",
       "      <td>42</td>\n",
       "      <td>43</td>\n",
       "      <td>20.879744</td>\n",
       "      <td>82.002744</td>\n",
       "      <td>6.502985</td>\n",
       "      <td>202.935536</td>\n",
       "      <td>rice</td>\n",
       "    </tr>\n",
       "    <tr>\n",
       "      <th>1</th>\n",
       "      <td>85</td>\n",
       "      <td>58</td>\n",
       "      <td>41</td>\n",
       "      <td>21.770462</td>\n",
       "      <td>80.319644</td>\n",
       "      <td>7.038096</td>\n",
       "      <td>226.655537</td>\n",
       "      <td>rice</td>\n",
       "    </tr>\n",
       "    <tr>\n",
       "      <th>2</th>\n",
       "      <td>60</td>\n",
       "      <td>55</td>\n",
       "      <td>44</td>\n",
       "      <td>23.004459</td>\n",
       "      <td>82.320763</td>\n",
       "      <td>7.840207</td>\n",
       "      <td>263.964248</td>\n",
       "      <td>rice</td>\n",
       "    </tr>\n",
       "    <tr>\n",
       "      <th>3</th>\n",
       "      <td>74</td>\n",
       "      <td>35</td>\n",
       "      <td>40</td>\n",
       "      <td>26.491096</td>\n",
       "      <td>80.158363</td>\n",
       "      <td>6.980401</td>\n",
       "      <td>242.864034</td>\n",
       "      <td>rice</td>\n",
       "    </tr>\n",
       "    <tr>\n",
       "      <th>4</th>\n",
       "      <td>78</td>\n",
       "      <td>42</td>\n",
       "      <td>42</td>\n",
       "      <td>20.130175</td>\n",
       "      <td>81.604873</td>\n",
       "      <td>7.628473</td>\n",
       "      <td>262.717340</td>\n",
       "      <td>rice</td>\n",
       "    </tr>\n",
       "  </tbody>\n",
       "</table>\n",
       "</div>"
      ],
      "text/plain": [
       "    N   P   K  temperature   humidity        ph    rainfall label\n",
       "0  90  42  43    20.879744  82.002744  6.502985  202.935536  rice\n",
       "1  85  58  41    21.770462  80.319644  7.038096  226.655537  rice\n",
       "2  60  55  44    23.004459  82.320763  7.840207  263.964248  rice\n",
       "3  74  35  40    26.491096  80.158363  6.980401  242.864034  rice\n",
       "4  78  42  42    20.130175  81.604873  7.628473  262.717340  rice"
      ]
     },
     "execution_count": 15,
     "metadata": {},
     "output_type": "execute_result"
    }
   ],
   "source": [
    "df.head()"
   ]
  },
  {
   "cell_type": "code",
   "execution_count": 16,
   "id": "15b475f9-7d89-41bd-9052-be2564670e42",
   "metadata": {},
   "outputs": [
    {
     "data": {
      "text/plain": [
       "(2200, 8)"
      ]
     },
     "execution_count": 16,
     "metadata": {},
     "output_type": "execute_result"
    }
   ],
   "source": [
    "df.shape"
   ]
  },
  {
   "cell_type": "code",
   "execution_count": 17,
   "id": "8000fd7d-6968-4370-9fc8-064820f1a5f0",
   "metadata": {},
   "outputs": [
    {
     "data": {
      "text/plain": [
       "<bound method NDFrame.describe of         N   P   K  temperature   humidity        ph    rainfall   label\n",
       "0      90  42  43    20.879744  82.002744  6.502985  202.935536    rice\n",
       "1      85  58  41    21.770462  80.319644  7.038096  226.655537    rice\n",
       "2      60  55  44    23.004459  82.320763  7.840207  263.964248    rice\n",
       "3      74  35  40    26.491096  80.158363  6.980401  242.864034    rice\n",
       "4      78  42  42    20.130175  81.604873  7.628473  262.717340    rice\n",
       "...   ...  ..  ..          ...        ...       ...         ...     ...\n",
       "2195  107  34  32    26.774637  66.413269  6.780064  177.774507  coffee\n",
       "2196   99  15  27    27.417112  56.636362  6.086922  127.924610  coffee\n",
       "2197  118  33  30    24.131797  67.225123  6.362608  173.322839  coffee\n",
       "2198  117  32  34    26.272418  52.127394  6.758793  127.175293  coffee\n",
       "2199  104  18  30    23.603016  60.396475  6.779833  140.937041  coffee\n",
       "\n",
       "[2200 rows x 8 columns]>"
      ]
     },
     "execution_count": 17,
     "metadata": {},
     "output_type": "execute_result"
    }
   ],
   "source": [
    "df.describe"
   ]
  },
  {
   "cell_type": "markdown",
   "id": "e39d2f83-0eae-442d-a5ee-1ab8fe633fcb",
   "metadata": {},
   "source": [
    "we checked if there is any nan or missing values"
   ]
  },
  {
   "cell_type": "code",
   "execution_count": 18,
   "id": "b83383a6-0207-4d30-beb9-42ae449aa631",
   "metadata": {},
   "outputs": [
    {
     "data": {
      "text/plain": [
       "N              0\n",
       "P              0\n",
       "K              0\n",
       "temperature    0\n",
       "humidity       0\n",
       "ph             0\n",
       "rainfall       0\n",
       "label          0\n",
       "dtype: int64"
      ]
     },
     "execution_count": 18,
     "metadata": {},
     "output_type": "execute_result"
    }
   ],
   "source": [
    "df.isnull().sum()"
   ]
  },
  {
   "cell_type": "markdown",
   "id": "6a436f70-8d23-401f-aeeb-a12a6bee18b4",
   "metadata": {},
   "source": [
    "from the code below we found the statistical details of each crop in the dataset, i.e that is the minimum, max, mean requirements for each crop"
   ]
  },
  {
   "cell_type": "code",
   "execution_count": 21,
   "id": "c0e4cca9-40f3-4afd-8f54-6756ba828bcd",
   "metadata": {},
   "outputs": [
    {
     "data": {
      "application/vnd.jupyter.widget-view+json": {
       "model_id": "c962c0845f4e49fcbfe562ce70e848c4",
       "version_major": 2,
       "version_minor": 0
      },
      "text/plain": [
       "interactive(children=(Dropdown(description='crops', options=('papaya', 'muskmelon', 'coffee', 'grapes', 'kidne…"
      ]
     },
     "metadata": {},
     "output_type": "display_data"
    }
   ],
   "source": [
    "@interact\n",
    "def statical_details(crops = list(df['label'].value_counts().index)):\n",
    "    x = df[df['label'] == crops]\n",
    "    print('-----------------------------------------------')\n",
    "    print('Statistic for Nitrogen')\n",
    "    print('Minimum Nitrogen required :',x['N'].min())\n",
    "    print('Average Nitrogen required :',x['N'].mean())\n",
    "    print('Maximum Nitrogen required :',x['N'].max())\n",
    "    print(\"------------------------------------------------\")\n",
    "    print('Statistic for Nitrogen')\n",
    "    print('Minimum phosphorous required :',x['P'].min())\n",
    "    print('Average phosphorous required :',x['P'].mean())\n",
    "    print('Maximum phosphorous required :',x['P'].max())\n",
    "    print(\"------------------------------------------------\")\n",
    "    print('Statistic for Nitrogen')\n",
    "    print('Minimum potassium required :',x['K'].min())\n",
    "    print('Average potassium required :',x['K'].mean())\n",
    "    print('Maximum potassium required :',x['K'].max())\n",
    "    print(\"------------------------------------------------\")\n",
    "    print(\"Statistic for temperature\")\n",
    "    print(\"Minimum Temperature required : {0:2f}\".format(x['temperature'].min()))\n",
    "    print(\"Average Temperature required : {0:2f}\".format(x['temperature'].mean()))\n",
    "    print(\"Maximum Temperature required : {0:2f}\".format(x['temperature'].max()))\n",
    "    print(\"------------------------------------------------\")\n",
    "    print(\"Statistic for temperature\")\n",
    "    print(\"Minimum humidity required : {0:2f}\".format(x['humidity'].min()))\n",
    "    print(\"Average humidity required : {0:2f}\".format(x['humidity'].mean()))\n",
    "    print(\"Maximum humidity required : {0:2f}\".format(x['humidity'].max()))\n",
    "    print(\"------------------------------------------------\")\n",
    "    print(\"Statistic for temperature\")\n",
    "    print(\"Minimum rainfall required : {0:2f}\".format(x['rainfall'].min()))\n",
    "    print(\"Average rainfall required : {0:2f}\".format(x['rainfall'].mean()))\n",
    "    print(\"Maximum rainfall required : {0:2f}\".format(x['rainfall'].max()))\n",
    "    print(\"Statistic for ph\")\n",
    "    print(\"Minimum ph required : {0:2f}\".format(x['ph'].min()))\n",
    "    print(\"Average ph required : {0:2f}\".format(x['ph'].mean()))\n",
    "    print(\"Maximum ph required : {0:2f}\".format(x['ph'].max()))\n",
    "    "
   ]
  },
  {
   "cell_type": "code",
   "execution_count": 23,
   "id": "0cfb4d01-0523-4326-a891-c63ef37301b3",
   "metadata": {},
   "outputs": [],
   "source": [
    "#we then proceeded to draw insight on conditions requird forthe each crop"
   ]
  },
  {
   "cell_type": "code",
   "execution_count": 24,
   "id": "5e3cb23f-55e6-48d7-97de-d28f6783dda7",
   "metadata": {},
   "outputs": [
    {
     "data": {
      "application/vnd.jupyter.widget-view+json": {
       "model_id": "aecf7e8754b64498a55099b09bd7d0b1",
       "version_major": 2,
       "version_minor": 0
      },
      "text/plain": [
       "interactive(children=(Dropdown(description='conditions', options=('N', 'P', 'K', 'temperature', 'ph', 'humidit…"
      ]
     },
     "metadata": {},
     "output_type": "display_data"
    }
   ],
   "source": [
    "@interact\n",
    "def compare(conditions = ['N','P','K','temperature','ph','humidity','rainfall']):\n",
    "    print('Average value for',conditions,'is {0:.2f}'.format(df[conditions].mean()))\n",
    "    print(\"------------------------------------------------------------------------\")\n",
    "    print('Rice : {0:2f}'.format(df[(df['label']=='rice')][conditions].mean()))\n",
    "    print('lentil : {0:2f}'.format(df[(df['label']=='lentil')][conditions].mean()))\n",
    "    print('cotton : {0:2f}'.format(df[(df['label']=='cotton')][conditions].mean()))\n",
    "    print('mungbean : {0:2f}'.format(df[(df['label']=='mungbean')][conditions].mean()))\n",
    "    print('jute : {0:2f}'.format(df[(df['label']=='jute')][conditions].mean()))\n",
    "    print('muskmelon : {0:2f}'.format(df[(df['label']=='muskmelon')][conditions].mean()))\n",
    "    print('blackgram : {0:2f}'.format(df[(df['label']=='blackgram')][conditions].mean()))\n",
    "    print('papaya : {0:2f}'.format(df[(df['label']=='papaya')][conditions].mean()))\n",
    "    print('orange : {0:2f}'.format(df[(df['label']=='orange')][conditions].mean()))\n",
    "    print('apple : {0:2f}'.format(df[(df['label']=='apple')][conditions].mean()))\n",
    "    print('pigeonpeas : {0:2f}'.format(df[(df['label']=='pigeonpeas')][conditions].mean()))\n",
    "    print('coffee : {0:2f}'.format(df[(df['label']=='coffee')][conditions].mean())) \n",
    "    print('maize : {0:2f}'.format(df[(df['label']=='maize')][conditions].mean()))\n",
    "    print('chickpea : {0:2f}'.format(df[(df['label']=='chickpea')][conditions].mean()))\n",
    "    print('pomegranate : {0:2f}'.format(df[(df['label']=='pomegranate')][conditions].mean()))\n",
    "    print('kidneybeans : {0:2f}'.format(df[(df['label']=='kidneybeans')][conditions].mean()))\n",
    "    print('mango : {0:2f}'.format(df[(df['label']=='mango')][conditions].mean()))\n",
    "    print('banana : {0:2f}'.format(df[(df['label']=='banana')][conditions].mean()))\n",
    "    print('grapes : {0:2f}'.format(df[(df['label']=='grapes')][conditions].mean()))\n",
    "    print('mothbeans : {0:2f}'.format(df[(df['label']=='mothbeans')][conditions].mean()))\n",
    "    print('watermelon : {0:2f}'.format(df[(df['label']=='watermelon')][conditions].mean()))\n",
    "    print('coconut : {0:2f}'.format(df[df['label']=='coconut'][conditions].mean()))"
   ]
  },
  {
   "cell_type": "code",
   "execution_count": 26,
   "id": "ca4e86fd-9525-4f39-b01e-1337ea9f666e",
   "metadata": {},
   "outputs": [],
   "source": [
    "#okay, explaining dataset is much more easier with visuals so we below we showed the distribution of Agriculture condition graph "
   ]
  },
  {
   "cell_type": "code",
   "execution_count": 28,
   "id": "e6e18923-4bd9-4653-ae9d-7e4dfdfdb44f",
   "metadata": {},
   "outputs": [
    {
     "data": {
      "text/plain": [
       "Text(0.5, 0.98, 'Distribution for Agriculture condition')"
      ]
     },
     "execution_count": 28,
     "metadata": {},
     "output_type": "execute_result"
    },
    {
     "data": {
      "image/png": "[encoded data removed]",
      "text/plain": [
       "<Figure size 432x288 with 7 Axes>"
      ]
     },
     "metadata": {
      "needs_background": "light"
     },
     "output_type": "display_data"
    }
   ],
   "source": [
    "plt.subplot(2,4,1)\n",
    "sns.histplot(df['P'],color='darkblue')\n",
    "plt.xlabel('Ratio of P',fontsize=12)\n",
    "plt.grid()\n",
    "\n",
    "plt.subplot(2,4,2)\n",
    "sns.histplot(df['N'],color='red')\n",
    "plt.xlabel('Ratio of N',fontsize=12)\n",
    "plt.grid()\n",
    "\n",
    "plt.subplot(2,4,3)\n",
    "sns.histplot(df['K'],color='darkblue')\n",
    "plt.xlabel('Ratio of potassium',fontsize=12)\n",
    "plt.grid()\n",
    "\n",
    "plt.subplot(2,4,4)\n",
    "sns.histplot(df[ 'temperature'],color='black')\n",
    "plt.xlabel('Ratio of temperature',fontsize=12)\n",
    "plt.grid()\n",
    "\n",
    "plt.subplot(2,4,5)\n",
    "sns.histplot(df['rainfall'],color='gray')\n",
    "plt.xlabel('Ratio of rainfall',fontsize=12)\n",
    "plt.grid()\n",
    "\n",
    "plt.subplot(2,4,6)\n",
    "sns.histplot(df['humidity'],color='lightgreen')\n",
    "plt.xlabel('Ratio of humidity',fontsize=12)\n",
    "plt.grid()\n",
    "\n",
    "plt.subplot(2,4,7)\n",
    "sns.histplot(df['ph'],color='darkgreen')\n",
    "plt.xlabel('Ratio of ph',fontsize=12)\n",
    "plt.grid()\n",
    "\n",
    "plt.suptitle(\"Distribution for Agriculture condition\",fontsize=20)"
   ]
  },
  {
   "cell_type": "code",
   "execution_count": 29,
   "id": "3d777741-3e80-48b4-b2f9-7a437b1a78f6",
   "metadata": {},
   "outputs": [
    {
     "name": "stdout",
     "output_type": "stream",
     "text": [
      "The patterns below shows the conditions requirements of each crop\n",
      "-------------------------\n",
      "crops which requires very High Ratio Nitrogen Content in soil: ['cotton']\n",
      "crops which requires very High Ratio phasphorous Content in soil: ['grapes' 'apple']\n",
      "crops which requires very High Ratio potassium Content in soil: ['grapes' 'apple']\n",
      "crops which requires very High Rainfall : ['rice' 'papaya' 'coconut']\n",
      "crops which requires very low temperature : ['grapes']\n",
      "crops which requires very HIgh temperature : ['grapes' 'papaya']\n",
      "crops which requires very low humidity : ['chickpea' 'kidneybeans']\n",
      "crops which requires very low ph : ['mothbeans']\n",
      "crops which requires very low ph : ['mothbeans']\n"
     ]
    }
   ],
   "source": [
    "print(\"The patterns below shows the conditions requirements of each crop\")\n",
    "print(\"-------------------------\")\n",
    "print(\"crops which requires very High Ratio Nitrogen Content in soil:\",df[df['N']>120]['label'].unique())\n",
    "print(\"crops which requires very High Ratio phasphorous Content in soil:\",df[df['P']>100]['label'].unique())\n",
    "print(\"crops which requires very High Ratio potassium Content in soil:\",df[df['K']>200]['label'].unique())\n",
    "print(\"crops which requires very High Rainfall :\",df[df['rainfall']>200]['label'].unique())\n",
    "print(\"crops which requires very low temperature :\",df[df['temperature']<10]['label'].unique())\n",
    "print(\"crops which requires very HIgh temperature :\",df[df['temperature']>40]['label'].unique())\n",
    "print(\"crops which requires very low humidity :\",df[df['humidity']<20]['label'].unique())\n",
    "print(\"crops which requires very low ph :\",df[df['ph']<4]['label'].unique())\n",
    "print(\"crops which requires very low ph :\",df[df['ph']>9]['label'].unique())"
   ]
  },
  {
   "cell_type": "code",
   "execution_count": 31,
   "id": "f4883ac7-1395-45d7-8097-fb6e36f827b5",
   "metadata": {},
   "outputs": [],
   "source": [
    "#crops that does well according to a particular weather conditions"
   ]
  },
  {
   "cell_type": "code",
   "execution_count": 32,
   "id": "fc805486-0ca4-4e87-85ec-ea7516ca3daa",
   "metadata": {},
   "outputs": [
    {
     "name": "stdout",
     "output_type": "stream",
     "text": [
      "summer crops\n",
      "['pigeonpeas' 'mothbeans' 'blackgram' 'mango' 'grapes' 'orange' 'papaya']\n",
      "---------------------------\n",
      "Winter crops\n",
      "['maize' 'pigeonpeas' 'lentil' 'pomegranate' 'grapes' 'orange']\n",
      "---------------------------\n",
      "['rice' 'papaya' 'coconut']\n"
     ]
    }
   ],
   "source": [
    "print(\"summer crops\")\n",
    "print(df[(df['temperature'] > 30) & (df['humidity'] > 50)]['label'].unique())\n",
    "print('---------------------------')\n",
    "print(\"Winter crops\")\n",
    "print(df[(df['temperature'] < 20) & (df['humidity'] > 30)]['label'].unique())\n",
    "print('---------------------------')\n",
    "print(df[(df['rainfall'] > 200) & (df['humidity'] > 30)]['label'].unique())"
   ]
  },
  {
   "cell_type": "code",
   "execution_count": 34,
   "id": "277692a8-bfa7-4efb-9aa2-f14624aa77ec",
   "metadata": {},
   "outputs": [],
   "source": [
    "#so from the patters made above we concluded we have enough description about the dataset so begun to train some models and make some predictions with the dataset"
   ]
  },
  {
   "cell_type": "code",
   "execution_count": 40,
   "id": "37d58b53-bde3-4ddd-8cda-fd0512e56120",
   "metadata": {},
   "outputs": [
    {
     "name": "stdout",
     "output_type": "stream",
     "text": [
      "shape of x:  (2200, 7)\n",
      "shape of y:  (2200,)\n"
     ]
    }
   ],
   "source": [
    "#we splitted our dataset into, one for training and one for testing. we stored the training dataset into the x variable and feature values into y valriable\n",
    "y = df['label']\n",
    "x = df.drop(['label'],axis = 1)\n",
    "\n",
    "print('shape of x: ',x.shape)\n",
    "print('shape of y: ',y.shape)\n",
    "\n",
    "from sklearn.model_selection import train_test_split\n",
    "x_train,x_test,y_train,y_test = train_test_split(x,y, test_size=0.3, random_state=42)\n"
   ]
  },
  {
   "cell_type": "code",
   "execution_count": 124,
   "id": "3d3d2d95-90b8-41a1-bccf-fd7eed91f6d3",
   "metadata": {},
   "outputs": [],
   "source": [
    "#we stored the moidels and their accuracy in the array below\n",
    "model_name = []\n",
    "accuracy = []"
   ]
  },
  {
   "cell_type": "markdown",
   "id": "5d1f4962-cc3f-43de-843c-4d05247063f1",
   "metadata": {},
   "source": [
    "### WE TRAINED AND COMPARE WHICH ALGORITHM FIT BEST WITH THREE CHOSEN ALGORITHMS"
   ]
  },
  {
   "cell_type": "code",
   "execution_count": null,
   "id": "b1d099f0-1773-4b09-90cd-902ad63f160f",
   "metadata": {},
   "outputs": [],
   "source": []
  },
  {
   "cell_type": "markdown",
   "id": "a20945fe-93a6-4c37-ace7-ff72c64e79cb",
   "metadata": {},
   "source": [
    "## SVC"
   ]
  },
  {
   "cell_type": "code",
   "execution_count": 125,
   "id": "d627dc86-79f2-46d1-93af-d1f6516c690a",
   "metadata": {},
   "outputs": [],
   "source": [
    "from sklearn.svm import SVC\n",
    "model_svc = SVC(C=0.3, kernel='linear')\n",
    "model_svc.fit(x_train, y_train)\n",
    "y_pred_SVC = model_svc.predict(x_test)"
   ]
  },
  {
   "cell_type": "code",
   "execution_count": 126,
   "id": "880e2db7-1b34-491f-8e4b-9d32a6724216",
   "metadata": {},
   "outputs": [],
   "source": [
    "# calculate accuracy\n",
    "from sklearn import metrics\n",
    "accuracy.append(metrics.accuracy_score(y_test, y_pred_SVC))\n",
    "model_name.append('SVM')\n",
    "\n"
   ]
  },
  {
   "cell_type": "code",
   "execution_count": 127,
   "id": "a1fa7c0e-7976-4405-87e6-771a579efa32",
   "metadata": {},
   "outputs": [
    {
     "data": {
      "text/plain": [
       "Text(0.5, 1.0, 'confusion Matrix')"
      ]
     },
     "execution_count": 127,
     "metadata": {},
     "output_type": "execute_result"
    },
    {
     "data": {
      "image/png": "[encoded data removed]",
      "text/plain": [
       "<Figure size 720x720 with 2 Axes>"
      ]
     },
     "metadata": {
      "needs_background": "light"
     },
     "output_type": "display_data"
    }
   ],
   "source": [
    "from sklearn.metrics import confusion_matrix\n",
    "\n",
    "# lets print the confusion matrix first \n",
    "plt.rcParams['figure.figsize']=(10,10)\n",
    "cm = confusion_matrix(y_test,y_pred_SVC)\n",
    "sns.heatmap(cm,annot = True, cmap = 'Wistia' )\n",
    "plt.title('confusion Matrix',fontsize = 15)"
   ]
  },
  {
   "cell_type": "markdown",
   "id": "20b35686-a918-44a8-9f27-73987ba9a53d",
   "metadata": {},
   "source": [
    "## KNN"
   ]
  },
  {
   "cell_type": "code",
   "execution_count": 128,
   "id": "ce9a9828-4e76-42bb-9dfa-d1ca36ed9173",
   "metadata": {},
   "outputs": [],
   "source": [
    "from sklearn.neighbors import KNeighborsClassifier\n",
    "knn = KNeighborsClassifier(leaf_size= 1,p= 15,n_neighbors= 5)\n",
    "knn.fit(x_train, y_train)\n",
    "KNN_Accuracy = knn.score(x_test, y_test)\n",
    "accuracy.append(KNN_Accuracy)\n",
    "model_name.append('KNN')\n"
   ]
  },
  {
   "cell_type": "markdown",
   "id": "acf44f50-e4af-4a7d-a34b-ad67f7ab3526",
   "metadata": {},
   "source": [
    "## LOGISTIC REGRESSION"
   ]
  },
  {
   "cell_type": "code",
   "execution_count": 129,
   "id": "25d5e50b-774b-4fba-b43b-8f2f7d244d9b",
   "metadata": {},
   "outputs": [
    {
     "name": "stderr",
     "output_type": "stream",
     "text": [
      "/Users/lukemanfrimpong/opt/anaconda3/lib/python3.9/site-packages/sklearn/linear_model/_logistic.py:814: ConvergenceWarning: lbfgs failed to converge (status=1):\n",
      "STOP: TOTAL NO. of ITERATIONS REACHED LIMIT.\n",
      "\n",
      "Increase the number of iterations (max_iter) or scale the data as shown in:\n",
      "    https://scikit-learn.org/stable/modules/preprocessing.html\n",
      "Please also refer to the documentation for alternative solver options:\n",
      "    https://scikit-learn.org/stable/modules/linear_model.html#logistic-regression\n",
      "  n_iter_i = _check_optimize_result(\n"
     ]
    }
   ],
   "source": [
    "from sklearn.linear_model import LogisticRegression\n",
    "\n",
    "model_LG = LogisticRegression(C=0.3)\n",
    "model_LG.fit(x_train,y_train)\n",
    "y_pred_LG = model_LG.predict(x_test)"
   ]
  },
  {
   "cell_type": "code",
   "execution_count": 130,
   "id": "51f43450-f9e5-4550-ad56-5c86b31cb2bd",
   "metadata": {},
   "outputs": [],
   "source": [
    "# calculate accuracy\n",
    "from sklearn import metrics\n",
    "accuracy.append(metrics.accuracy_score(y_test, y_pred_LG))\n",
    "model_name.append('LogisticRegression')\n",
    "\n"
   ]
  },
  {
   "cell_type": "markdown",
   "id": "4f8cf13c-72ed-46d2-b1c1-e982354b281b",
   "metadata": {},
   "source": []
  },
  {
   "cell_type": "code",
   "execution_count": 131,
   "id": "99a91fe8-f7af-46ae-9d83-385e81dc110e",
   "metadata": {},
   "outputs": [
    {
     "data": {
      "text/plain": [
       "Text(0.5, 1.0, 'confusion Matrix ')"
      ]
     },
     "execution_count": 131,
     "metadata": {},
     "output_type": "execute_result"
    },
    {
     "data": {
      "image/png": "[encoded data removed]",
      "text/plain": [
       "<Figure size 720x720 with 2 Axes>"
      ]
     },
     "metadata": {
      "needs_background": "light"
     },
     "output_type": "display_data"
    }
   ],
   "source": [
    "from sklearn.metrics import confusion_matrix\n",
    "\n",
    "# lets print the confusion matrix first \n",
    "plt.rcParams['figure.figsize']=(10,10)\n",
    "cm = confusion_matrix(y_test,y_pred_LG)\n",
    "sns.heatmap(cm,annot = True, cmap = 'Wistia' )\n",
    "plt.title('confusion Matrix ',fontsize = 15)"
   ]
  },
  {
   "cell_type": "markdown",
   "id": "873460f1-0921-4bf8-bbde-048de28ea1a1",
   "metadata": {},
   "source": [
    "## RANDOM FOREST"
   ]
  },
  {
   "cell_type": "code",
   "execution_count": 132,
   "id": "e01b00e9-a83b-40b8-b357-1160621cb6b8",
   "metadata": {},
   "outputs": [],
   "source": [
    "from sklearn.ensemble import RandomForestClassifier\n",
    "model_rf = RandomForestClassifier( max_depth=21, n_estimators=41)\n",
    "model_rf.fit(x_train,y_train)\n",
    "y_pred_rf = model_rf.predict(x_test)\n",
    "accuracy.append(metrics.accuracy_score(y_test, y_pred_rf))\n",
    "model_name.append('RandomForest')\n",
    "\n"
   ]
  },
  {
   "cell_type": "code",
   "execution_count": 133,
   "id": "7bd058d1-7842-4702-85df-56b80a056c9e",
   "metadata": {},
   "outputs": [
    {
     "data": {
      "text/plain": [
       "Text(0.5, 1.0, 'confusion Matrix RF')"
      ]
     },
     "execution_count": 133,
     "metadata": {},
     "output_type": "execute_result"
    },
    {
     "data": {
      "image/png": "[encoded data removed]",
      "text/plain": [
       "<Figure size 720x720 with 2 Axes>"
      ]
     },
     "metadata": {
      "needs_background": "light"
     },
     "output_type": "display_data"
    }
   ],
   "source": [
    "plt.rcParams['figure.figsize']=(10,10)\n",
    "cm = confusion_matrix(y_test,y_pred_rf)\n",
    "sns.heatmap(cm,annot = True, cmap = 'Wistia' )\n",
    "plt.title('confusion Matrix RF',fontsize = 15)\n"
   ]
  },
  {
   "cell_type": "code",
   "execution_count": 134,
   "id": "8150861c-8c8e-4473-afc4-8346596d8390",
   "metadata": {},
   "outputs": [
    {
     "data": {
      "text/plain": [
       "['SVM', 'KNN', 'LogisticRegression', 'RandomForest']"
      ]
     },
     "execution_count": 134,
     "metadata": {},
     "output_type": "execute_result"
    }
   ],
   "source": [
    "model_name"
   ]
  },
  {
   "cell_type": "code",
   "execution_count": 135,
   "id": "b798d26f-079f-4497-860b-fd6a9ed20ed0",
   "metadata": {},
   "outputs": [
    {
     "data": {
      "text/plain": [
       "[0.9772727272727273, 0.9621212121212122, 0.953030303030303, 0.990909090909091]"
      ]
     },
     "execution_count": 135,
     "metadata": {},
     "output_type": "execute_result"
    }
   ],
   "source": [
    "accuracy"
   ]
  },
  {
   "cell_type": "code",
   "execution_count": 146,
   "id": "9618b4ac-722f-4e03-9b6b-5ca35a82b8f7",
   "metadata": {},
   "outputs": [
    {
     "data": {
      "text/html": [
       "<div>\n",
       "<style scoped>\n",
       "    .dataframe tbody tr th:only-of-type {\n",
       "        vertical-align: middle;\n",
       "    }\n",
       "\n",
       "    .dataframe tbody tr th {\n",
       "        vertical-align: top;\n",
       "    }\n",
       "\n",
       "    .dataframe thead th {\n",
       "        text-align: right;\n",
       "    }\n",
       "</style>\n",
       "<table border=\"1\" class=\"dataframe\">\n",
       "  <thead>\n",
       "    <tr style=\"text-align: right;\">\n",
       "      <th></th>\n",
       "      <th>0</th>\n",
       "      <th>1</th>\n",
       "      <th>2</th>\n",
       "      <th>3</th>\n",
       "    </tr>\n",
       "  </thead>\n",
       "  <tbody>\n",
       "    <tr>\n",
       "      <th>0</th>\n",
       "      <td>SVM</td>\n",
       "      <td>KNN</td>\n",
       "      <td>LogisticRegression</td>\n",
       "      <td>RandomForest</td>\n",
       "    </tr>\n",
       "    <tr>\n",
       "      <th>1</th>\n",
       "      <td>0.977273</td>\n",
       "      <td>0.962121</td>\n",
       "      <td>0.95303</td>\n",
       "      <td>0.990909</td>\n",
       "    </tr>\n",
       "  </tbody>\n",
       "</table>\n",
       "</div>"
      ],
      "text/plain": [
       "          0         1                   2             3\n",
       "0       SVM       KNN  LogisticRegression  RandomForest\n",
       "1  0.977273  0.962121             0.95303      0.990909"
      ]
     },
     "execution_count": 146,
     "metadata": {},
     "output_type": "execute_result"
    }
   ],
   "source": [
    "Accuracy = [model_name, accuracy]\n",
    "model_accuracy = pd.DataFrame(Accuracy)\n",
    "model_accuracy"
   ]
  },
  {
   "cell_type": "markdown",
   "id": "3050c7e9-5be9-454c-ad9c-3ef338937f7b",
   "metadata": {},
   "source": [
    "from the dataframe we can see that Random forest has the highest accuracy lets use it to predict new label by feeding in new features\n"
   ]
  },
  {
   "cell_type": "code",
   "execution_count": 151,
   "id": "15f6da65-609f-43ce-8f48-d37b83657d52",
   "metadata": {},
   "outputs": [
    {
     "name": "stdout",
     "output_type": "stream",
     "text": [
      "the suggested crop by Random Forest for Given climate condition is : ['apple']\n"
     ]
    },
    {
     "name": "stderr",
     "output_type": "stream",
     "text": [
      "/Users/lukemanfrimpong/opt/anaconda3/lib/python3.9/site-packages/sklearn/base.py:450: UserWarning: X does not have valid feature names, but RandomForestClassifier was fitted with feature names\n",
      "  warnings.warn(\n"
     ]
    }
   ],
   "source": [
    "predictionn = model_rf.predict((np.array([[27,120,200,21.452787,90.745319,6.110219,116.703658]])))\n",
    "print('the suggested crop by Random Forest for Given climate condition is :',predictionn)"
   ]
  },
  {
   "cell_type": "code",
   "execution_count": null,
   "id": "4ecf6e3e-081c-4c3b-a70d-6e536bbf5c77",
   "metadata": {},
   "outputs": [],
   "source": []
  }
 ],
 "metadata": {
  "kernelspec": {
   "display_name": "Python 3 (ipykernel)",
   "language": "python",
   "name": "python3"
  },
  "language_info": {
   "codemirror_mode": {
    "name": "ipython",
    "version": 3
   },
   "file_extension": ".py",
   "mimetype": "text/x-python",
   "name": "python",
   "nbconvert_exporter": "python",
   "pygments_lexer": "ipython3",
   "version": "3.9.12"
  }
 },
 "nbformat": 4,
 "nbformat_minor": 5
}
